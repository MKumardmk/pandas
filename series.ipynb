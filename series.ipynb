{
 "cells": [
  {
   "attachments": {},
   "cell_type": "markdown",
   "metadata": {},
   "source": [
    "Pandas is an open source library in Python. It provides ready to use high-performance \n",
    "data structures and data analysis tools. Pandas module runs on top of NumPy and it is \n",
    "popularly used for data science and data analytics"
   ]
  },
  {
   "cell_type": "code",
   "execution_count": null,
   "metadata": {},
   "outputs": [],
   "source": [
    "import pandas as pd\n",
    "import numpy as np\n",
    "import seaborn; seaborn.set()\n",
    "import matplotlib.pyplot as plt\n",
    "import warnings\n",
    "warnings.filterwarnings('ignore')"
   ]
  },
  {
   "cell_type": "code",
   "execution_count": null,
   "metadata": {},
   "outputs": [],
   "source": [
    "df = pd.DataFrame(3 * np.random.rand(4), index=['Python', 'ML', 'DL', \n",
    "'ANN'], columns=['Technology'])\n",
    "print(df)\n",
    "df.plot.pie(subplots=True)\n",
    "plt.show()\n"
   ]
  },
  {
   "cell_type": "code",
   "execution_count": null,
   "metadata": {},
   "outputs": [],
   "source": [
    "df = pd.DataFrame(3 * np.random.rand(4), index=['Python', 'ML', 'DL', \n",
    "'ANN'], columns=['Technology'])\n",
    "print(df)\n",
    "df.plot.bar(stacked=True)\n",
    "plt.show()\n"
   ]
  },
  {
   "attachments": {},
   "cell_type": "markdown",
   "metadata": {},
   "source": [
    "Series"
   ]
  },
  {
   "attachments": {},
   "cell_type": "markdown",
   "metadata": {},
   "source": [
    "Series is a one-dimensional array like structure with homogeneous data. For example, the \n",
    "following series is a collection of integers 10, 23, 56, …"
   ]
  },
  {
   "cell_type": "code",
   "execution_count": null,
   "metadata": {},
   "outputs": [],
   "source": [
    "\n",
    "s = pd.Series()\n",
    "print (s)\n"
   ]
  },
  {
   "attachments": {},
   "cell_type": "markdown",
   "metadata": {},
   "source": [
    "Create a Series from ndarray"
   ]
  },
  {
   "cell_type": "code",
   "execution_count": null,
   "metadata": {},
   "outputs": [],
   "source": [
    "data = np.array(['a', 'b', 'c', 'd', 'e'])\n",
    "s = pd.Series(data)\n",
    "print(s)\n",
    "print(type(s))"
   ]
  },
  {
   "cell_type": "code",
   "execution_count": null,
   "metadata": {},
   "outputs": [],
   "source": [
    "data1 = np.array(['a', 'b', 'c', 'd', 'e'])\n",
    "s = pd.Series(data=data1,index=[10,20,30,40,50],dtype=object,copy=True)\n",
    "print(s)"
   ]
  },
  {
   "cell_type": "code",
   "execution_count": null,
   "metadata": {},
   "outputs": [],
   "source": [
    "data1 = np.array(['Tamil', 'Nathan', 'Karthika', 'Suresh', 'Lord Muruga'])\n",
    "s = pd.Series(data=data1,index=[\"AA\", \"BB\", \"CC\", \"DD\", \"EE\"],dtype=object,copy=True)\n",
    "# s = pd.Series(data=data1,dtype=object,copy=True)\n",
    "print(s)"
   ]
  },
  {
   "attachments": {},
   "cell_type": "markdown",
   "metadata": {},
   "source": [
    "Creating Series using python list"
   ]
  },
  {
   "cell_type": "code",
   "execution_count": null,
   "metadata": {},
   "outputs": [],
   "source": [
    "lst = [2, 4, 6, 8, 10] #declaring list\n",
    "data1 = np.array(lst) # converting the list to ndarray\n",
    "print (data1)\n",
    "s = pd.Series(data=data1) #passing the ndarray to Series\n",
    "print(s)\n",
    "print(type(s))"
   ]
  },
  {
   "attachments": {},
   "cell_type": "markdown",
   "metadata": {},
   "source": [
    "Passing the list to create Series"
   ]
  },
  {
   "cell_type": "code",
   "execution_count": null,
   "metadata": {},
   "outputs": [],
   "source": [
    "lst = [2, 4, 6, 8, 10] #declaring list\n",
    "s = pd.Series(data=lst) #passing the list to Series\n",
    "print(s)\n",
    "print(type(s))"
   ]
  },
  {
   "attachments": {},
   "cell_type": "markdown",
   "metadata": {},
   "source": [
    "Create a Series with different datatype parameter"
   ]
  },
  {
   "cell_type": "code",
   "execution_count": null,
   "metadata": {},
   "outputs": [],
   "source": [
    "data1 = np.array(lst)\n",
    "print (data1)\n",
    "s = pd.Series(data=data1,dtype=float, index=lst,copy=True)\n",
    "print(s)"
   ]
  },
  {
   "attachments": {},
   "cell_type": "markdown",
   "metadata": {},
   "source": [
    "Series created using list of list with dtype=object and \n",
    "send to Series"
   ]
  },
  {
   "cell_type": "code",
   "execution_count": null,
   "metadata": {},
   "outputs": [],
   "source": [
    "lst = [[ 200, 300, 600, 800,100,2 ],[200, 300, 600], [200, 300],[200]]\n",
    "s = pd.Series(data=lst, dtype=object, index=[\"1st Std\", \"2nd Std\", \"3rd Std\", \"4th Std\"], \n",
    "copy=False)\n",
    "print(s)"
   ]
  },
  {
   "attachments": {},
   "cell_type": "markdown",
   "metadata": {},
   "source": [
    "Convert the list to asarray and use the same to Series"
   ]
  },
  {
   "cell_type": "code",
   "execution_count": null,
   "metadata": {},
   "outputs": [],
   "source": [
    "lst = [[ 200, 300, 600, 800,100,2 ],[200, 300, 600], [200, 300],[200]]\n",
    "ndArray = np.asarray(lst, dtype=object)\n",
    "print(ndArray)\n",
    "s = pd.Series(data=ndArray, dtype=object, index=[\"1st Std\", \"2nd Std\", \"3rd Std\", \"4th Std\"], \n",
    "copy=False)\n",
    "print(s)"
   ]
  },
  {
   "attachments": {},
   "cell_type": "markdown",
   "metadata": {},
   "source": [
    "Custom index can be in string format also"
   ]
  },
  {
   "cell_type": "code",
   "execution_count": null,
   "metadata": {},
   "outputs": [],
   "source": [
    "temperature = [96, 102, 88, 68, 78.5]\n",
    "data1 = np.array(temperature)\n",
    "print (data1)\n",
    "days = [\"Monday\",\"Tuesday\", \"Wednesday\", \"Thursday\",\"Friday\" ]\n",
    "s = pd.Series(data=data1,dtype=float, index=days,copy=True)\n",
    "print(s)"
   ]
  },
  {
   "attachments": {},
   "cell_type": "markdown",
   "metadata": {},
   "source": [
    "Creating Series using python dict"
   ]
  },
  {
   "cell_type": "code",
   "execution_count": null,
   "metadata": {},
   "outputs": [],
   "source": [
    "data = {'ganesh' : 10., '' : 20., \n",
    "'Lord Muruga' : 30.} #Watch EMPTY KEY\n",
    "s = pd.Series(data=data)\n",
    "print(s)"
   ]
  },
  {
   "attachments": {},
   "cell_type": "markdown",
   "metadata": {},
   "source": [
    "Another code for dict – dict keys can be given in index – explicitly)"
   ]
  },
  {
   "cell_type": "code",
   "execution_count": null,
   "metadata": {},
   "outputs": [],
   "source": [
    "data = {'ganesh' : 10., 'Age' : 20., 'Lord Muruga' : 30.} #Watch EMPTY KEY\n",
    "s = pd.Series(data=data, index=[\"ganesh\", \"Age\", \"Lord Muruga\"])\n",
    "print(s)"
   ]
  },
  {
   "attachments": {},
   "cell_type": "markdown",
   "metadata": {},
   "source": [
    "Passing list of dict to Series"
   ]
  },
  {
   "cell_type": "code",
   "execution_count": null,
   "metadata": {},
   "outputs": [],
   "source": [
    "data = {\"Name\":['Tom', 'Jack', 'Steve', 'Ricky'], \"Age\":[28,34,29,42]}\n",
    "s = pd.Series(data=data)\n",
    "print(s)"
   ]
  },
  {
   "attachments": {},
   "cell_type": "markdown",
   "metadata": {},
   "source": [
    "If index is passed, the values in data corresponding to the labels in the \n",
    "index will be pulled out."
   ]
  },
  {
   "cell_type": "code",
   "execution_count": null,
   "metadata": {},
   "outputs": [],
   "source": [
    "import numpy as np\n",
    "import pandas as pd\n",
    "data = {'Menagha' : 10., 'Tamil' : 20., 'Lara' : 30.}\n",
    "s = pd.Series(data=data, index=[\"ABC\", \"XYZ\", \"SSS\"])\n",
    "print(s)"
   ]
  },
  {
   "attachments": {},
   "cell_type": "markdown",
   "metadata": {},
   "source": [
    "If we give the missing element, but provides the custom \n",
    "index, the element value will be supplied as NaN"
   ]
  },
  {
   "cell_type": "code",
   "execution_count": null,
   "metadata": {},
   "outputs": [],
   "source": [
    "data = {'Menagha' : 10., 'Nathan' : 20., 'Lara' : 30.}\n",
    "s = pd.Series(data=data, index=[\"Menagha\", \"Nathan\", \"ABSENT\", 'Lara'])\n",
    "print(s)"
   ]
  },
  {
   "attachments": {},
   "cell_type": "markdown",
   "metadata": {},
   "source": [
    "What happenes if we give duplicate keys in index – see below"
   ]
  },
  {
   "cell_type": "code",
   "execution_count": null,
   "metadata": {},
   "outputs": [],
   "source": [
    "data = {'Menagha' : 10, 'Nathan' : 20, 'Lara' : 30.0}\n",
    "s = pd.Series(data=data, index=[\"Menagha\",\"Menagha\", \"Nathan\",\"Absent\", 'Lara'], \n",
    "dtype=int)\n",
    "print(s)"
   ]
  },
  {
   "attachments": {},
   "cell_type": "markdown",
   "metadata": {},
   "source": [
    "What happenes if we give less number of keys in index"
   ]
  },
  {
   "cell_type": "code",
   "execution_count": null,
   "metadata": {},
   "outputs": [],
   "source": [
    "data = {'Menagha' : 10, 'Nathan' : 20, 'Lara' : 30.0}\n",
    "s = pd.Series(data=data, index=[\"Menagha\", \"Nathan\"], dtype=int)\n",
    "print(s)"
   ]
  },
  {
   "attachments": {},
   "cell_type": "markdown",
   "metadata": {},
   "source": [
    "Series dataset value is mutable (Value can be modified) added / deleted / modified"
   ]
  },
  {
   "cell_type": "code",
   "execution_count": null,
   "metadata": {},
   "outputs": [],
   "source": [
    "lst = [2, 4, 6, 8, 10]\n",
    "indx = [20,40,60,80,100]\n",
    "s = pd.Series(data=lst,dtype=float, index=indx,copy=True)#explicit index\n",
    "print(s)\n",
    "print(type(s))\n",
    "s[20] = 800 # Modifying the value of the Series\n",
    "print(s)\n"
   ]
  },
  {
   "attachments": {},
   "cell_type": "markdown",
   "metadata": {},
   "source": [
    "If the index is NOT there, a new row / data is added at the end of the Series"
   ]
  },
  {
   "cell_type": "code",
   "execution_count": null,
   "metadata": {},
   "outputs": [],
   "source": [
    "lst = [2, 4, 6, 8, 10]\n",
    "indx = [20,40,60,80,100]\n",
    "s = pd.Series(data=lst,dtype=float, index=indx,copy=True)#explicit index\n",
    "print(s)\n",
    "print(type(s))\n",
    "s[21] = 800 # Modifying the value of the Series\n",
    "print(s)"
   ]
  },
  {
   "cell_type": "code",
   "execution_count": null,
   "metadata": {},
   "outputs": [],
   "source": [
    "lst = [2, 4, 6, 8, 10]\n",
    "data1 = np.array(lst)\n",
    "print (data1)\n",
    "s = pd.Series(data=data1,dtype=float,copy=True) # default index (starts from 0/zero)\n",
    "print(\"original series \\n\", s)\n",
    "for index, item in enumerate(s):\n",
    " print(\"Index is {}, item is {}\".format(index,item))\n",
    "print(\"----------------\")\n",
    "s[2] = 600 # If the index is there, the index value is modified\n",
    "print(s)\n",
    "print(\"----------------\")\n",
    "print(\"After index modification \\n\", s)\n",
    "for index, item in enumerate(s):\n",
    " print(\"Modified Index is {}, Modifed item is {}\".format(index,item))\n",
    "print(\"----------------\")\n",
    "print(s.dtype)"
   ]
  },
  {
   "attachments": {},
   "cell_type": "markdown",
   "metadata": {},
   "source": [
    "Find the Shape, ndim, size and npbytes of Series"
   ]
  },
  {
   "cell_type": "code",
   "execution_count": null,
   "metadata": {},
   "outputs": [],
   "source": [
    "print(\"SHAPE : \", s.shape)\n",
    "print (\"DIMENSION : \",s.ndim)\n",
    "print(\"SIZE : \",s.size)\n",
    "print(\"NBYTES : \",s.nbytes)\n",
    "print(\"item : \",s.item) # Return the first element of the underlying data as a Python scalar.\n",
    "print (\"LENGTH : \",len(s))"
   ]
  },
  {
   "attachments": {},
   "cell_type": "markdown",
   "metadata": {},
   "source": [
    "If We do not pass any index, by default, it assigned the indexes ranging from 0 to \n",
    "len(data)-1, \n",
    "The axis labels are collectively called index.\n",
    "Now we are passing index. The index must be of same size of the Series’ data"
   ]
  },
  {
   "cell_type": "code",
   "execution_count": null,
   "metadata": {},
   "outputs": [],
   "source": [
    "lst = [2, 4, 6, 8, 10]\n",
    "data1 = np.array(lst)\n",
    "print (data1)\n",
    "print(\"SIZE IS : \",data1.size)\n",
    "s = pd.Series(data=data1,dtype=int, index=[200, 300, 600, 800,1000],copy=True)\n",
    "print(s)"
   ]
  },
  {
   "attachments": {},
   "cell_type": "markdown",
   "metadata": {},
   "source": [
    "Adding index to the Series values"
   ]
  },
  {
   "cell_type": "code",
   "execution_count": null,
   "metadata": {},
   "outputs": [],
   "source": [
    "lst = [\"NAME\", \"SUBJECT\", \"MARK\", \"CLASS NAME\", \"TEACHER NAME\" ]\n",
    "data1 = np.array(lst)\n",
    "print (data1)\n",
    "s = pd.Series(data1)\n",
    "print(s)\n",
    "print(\"SIZE IS : \", data1.size)\n",
    "s = pd.Series(data=data1,dtype=str, index=[\"Aafi\", \"Data Science\", \"98\", \"On Line\", \"Menagha\"],copy=True)\n",
    "print(s)\n"
   ]
  },
  {
   "attachments": {},
   "cell_type": "markdown",
   "metadata": {},
   "source": [
    "Create a Series from dict"
   ]
  },
  {
   "cell_type": "code",
   "execution_count": null,
   "metadata": {},
   "outputs": [],
   "source": [
    "studentInfo = {\"NAME\" :\"Aafi\", \"SUBJECT\":\"Data Science\", \"MARK\":98, \"CLASS MODE\": \"ONLINE\", \"TUTOR NAME\" : \"Menagha\"}\n",
    "s = pd.Series(data = studentInfo)\n",
    "print(s)"
   ]
  },
  {
   "cell_type": "code",
   "execution_count": null,
   "metadata": {},
   "outputs": [],
   "source": [
    "data = {'a' : 0., 'b' : 1., 'c' : 2.}\n",
    "s = pd.Series(data)\n",
    "print(s)"
   ]
  },
  {
   "attachments": {},
   "cell_type": "markdown",
   "metadata": {},
   "source": [
    "What happens if use sorted(), but not give index"
   ]
  },
  {
   "cell_type": "code",
   "execution_count": null,
   "metadata": {},
   "outputs": [],
   "source": [
    "studentInfo = {\"NAME\" :\"Aafi\", \"SUBJECT\":\"Data Science\", \"MARK\":98, \"CLASS MODE\": \"ONLINE\", \n",
    "\"TUTOR NAME\" : \"Melcose\"}\n",
    "s = pd.Series(sorted(studentInfo))\n",
    "print(s)"
   ]
  },
  {
   "attachments": {},
   "cell_type": "markdown",
   "metadata": {},
   "source": [
    "What happens if give index to Series (with out sorted())"
   ]
  },
  {
   "cell_type": "code",
   "execution_count": null,
   "metadata": {},
   "outputs": [],
   "source": [
    "studentInfo = {\"NAME\" :\"Aafi\", \"SUBJECT\":\"Data Science\", \"MARK\":98, \"CLASS MODE\": \"ONLINE\", \"TUTOR NAME\" : \"Menagha\"}\n",
    "s = pd.Series(data = studentInfo, index=studentInfo)\n",
    "print(s)"
   ]
  },
  {
   "attachments": {},
   "cell_type": "markdown",
   "metadata": {},
   "source": [
    "What happens if use sorted(), and give index to Series data"
   ]
  },
  {
   "cell_type": "code",
   "execution_count": null,
   "metadata": {},
   "outputs": [],
   "source": [
    "data1 = {'a' : 10., 'c' : 11., 'b' : 12.}\n",
    "s = pd.Series(data=sorted(data1), index=data1)\n",
    "print(\"SORTED WITH INDEX:\\n\",s)\n",
    "#If we sort data, we can not get the value. So sort the index. So we get both value and indexed keys"
   ]
  },
  {
   "attachments": {},
   "cell_type": "markdown",
   "metadata": {},
   "source": [
    "How to sort the dict kyes and assign corresponding values from dict"
   ]
  },
  {
   "cell_type": "code",
   "execution_count": null,
   "metadata": {},
   "outputs": [],
   "source": [
    "studentInfo = {\"NAME\" :\"Aafi\", \"SUBJECT\":\"Data Science\", \"MARK\":98, \"STUDY MODE\": \"ONLINE\", \n",
    "\"TUTOR NAME\" : \"Menagha\"}\n",
    "s = pd.Series(data = (studentInfo), index=sorted(studentInfo))\n",
    "print(s)"
   ]
  },
  {
   "cell_type": "code",
   "execution_count": null,
   "metadata": {},
   "outputs": [],
   "source": [
    "data1 = {'c' : 100., 'b' : 11., 'a' : 120.}\n",
    "s = pd.Series(data=(data1), index=sorted(data1))\n",
    "print(\"SORTED WITH INDEX:\\n\",s)"
   ]
  },
  {
   "attachments": {},
   "cell_type": "markdown",
   "metadata": {},
   "source": [
    "Give more number of index than the number of dict \n",
    "values – what happen(Note: Pandas supplies NaN to missing values)"
   ]
  },
  {
   "cell_type": "code",
   "execution_count": null,
   "metadata": {},
   "outputs": [],
   "source": [
    "data1 = {'a' : 10., 'c' : 11., 'b' : 12.}\n",
    "s = pd.Series(data=data1, index=['b', 'c', 'd', 'a'])\n",
    "print(s)"
   ]
  },
  {
   "attachments": {},
   "cell_type": "markdown",
   "metadata": {},
   "source": [
    "The values from the Series are fetched based on index"
   ]
  },
  {
   "cell_type": "code",
   "execution_count": null,
   "metadata": {},
   "outputs": [],
   "source": [
    "data1 = {'a' : 10., 'c' : 11., 'b' : 12.}\n",
    "s = pd.Series(data1, index=['a', 'b', 'c'])\n",
    "print(s)\n",
    "print(s['c'])"
   ]
  },
  {
   "attachments": {},
   "cell_type": "markdown",
   "metadata": {},
   "source": [
    "Below the index names and the keys of dict or not matched. So Nan"
   ]
  },
  {
   "cell_type": "code",
   "execution_count": null,
   "metadata": {},
   "outputs": [],
   "source": [
    "data1 = {'a' : 10., 'c' : 11., 'b' : 12.}\n",
    "s = pd.Series(data1, index=['aa', 'bb', 'cc'])\n",
    "print(s)"
   ]
  },
  {
   "attachments": {},
   "cell_type": "markdown",
   "metadata": {},
   "source": [
    "Sorting the Series using sort_index and sort_values"
   ]
  },
  {
   "cell_type": "code",
   "execution_count": null,
   "metadata": {},
   "outputs": [],
   "source": [
    "data = {'b' : 0., 'z': 200, 'a' : 1., 'c' : 2.}\n",
    "s = pd.Series(data)\n",
    "print(s)\n",
    "print(\"--------------\")\n",
    "print(s.sort_index())\n",
    "print(\"--------------\")\n",
    "print(s.sort_values())\n"
   ]
  },
  {
   "attachments": {},
   "cell_type": "markdown",
   "metadata": {},
   "source": [
    "Create a Series from Scalar "
   ]
  },
  {
   "cell_type": "code",
   "execution_count": null,
   "metadata": {},
   "outputs": [],
   "source": [
    "mark = 40\n",
    "s = pd.Series(data=mark, index=[\"Lara\", \"Usha\", \"Loga\"])\n",
    "print(s)"
   ]
  },
  {
   "attachments": {},
   "cell_type": "markdown",
   "metadata": {},
   "source": [
    "Another example for scalar value with str dtype"
   ]
  },
  {
   "cell_type": "code",
   "execution_count": null,
   "metadata": {},
   "outputs": [],
   "source": [
    "gender = \"Female\" # Scalar value with str data type\n",
    "s = pd.Series(data=gender, index=[\"Vanitha\", \"Usha\", \"Karthika\"])\n",
    "print(s)"
   ]
  },
  {
   "cell_type": "code",
   "execution_count": null,
   "metadata": {},
   "outputs": [],
   "source": [
    "s = pd.Series(5, index=[0, 1, 2, 3,])\n",
    "print(s)"
   ]
  },
  {
   "cell_type": "code",
   "execution_count": null,
   "metadata": {},
   "outputs": [],
   "source": [
    "s1 = pd.Series('A', index=[0, 1, 2, 3,])\n",
    "print(s1)"
   ]
  },
  {
   "cell_type": "code",
   "execution_count": null,
   "metadata": {},
   "outputs": [],
   "source": [
    "s2 = pd.Series(True, index=[0, 1, 2, 3,])\n",
    "print(s2)"
   ]
  },
  {
   "attachments": {},
   "cell_type": "markdown",
   "metadata": {},
   "source": [
    "How to Assign different index names to list of scalar values"
   ]
  },
  {
   "cell_type": "code",
   "execution_count": null,
   "metadata": {},
   "outputs": [],
   "source": [
    "s = pd.Series([1,2,3,4,5],index = ['a','b','c','d','e'])\n",
    "print (s)"
   ]
  },
  {
   "attachments": {},
   "cell_type": "markdown",
   "metadata": {},
   "source": [
    "What happens if the number of series data and number \n",
    "index are mismatched"
   ]
  },
  {
   "cell_type": "code",
   "execution_count": null,
   "metadata": {},
   "outputs": [],
   "source": [
    "s = pd.Series(data=[\"Nathan\"\n",
    ", \"Menagha\", \"Lara\"], index=[\"Pandas\", \"Numpy\", \"Python\", \"AI\"])\n",
    "print(s)"
   ]
  },
  {
   "attachments": {},
   "cell_type": "markdown",
   "metadata": {},
   "source": [
    "What happens if different index names to different scalar values (The scalar values has different data type)\n"
   ]
  },
  {
   "cell_type": "code",
   "execution_count": null,
   "metadata": {},
   "outputs": [],
   "source": [
    "s = pd.Series([1, 2.3, \"Name\", 4, True],index = ['a','b','c','d','e'])\n",
    "print (s)"
   ]
  },
  {
   "attachments": {},
   "cell_type": "markdown",
   "metadata": {},
   "source": [
    "Note: the number of index and the number of scalar values must be same in size, else it is \n",
    "an error. You get the below error"
   ]
  },
  {
   "cell_type": "code",
   "execution_count": null,
   "metadata": {},
   "outputs": [],
   "source": [
    "s = pd.Series([1, 2.3, \"Name\", 4, True],index = ['a','b','c','d','e', 'f'])\n",
    "print(s)"
   ]
  },
  {
   "cell_type": "code",
   "execution_count": null,
   "metadata": {},
   "outputs": [],
   "source": [
    "s = pd.Series([1, 2.3, \"Name\", 4, True],index = [1, 2.3, \"Name\", 4, True])\n",
    "print (s)"
   ]
  },
  {
   "attachments": {},
   "cell_type": "markdown",
   "metadata": {},
   "source": [
    "Accessing Data from Series using index[ ] (square bracket)\n"
   ]
  },
  {
   "cell_type": "code",
   "execution_count": null,
   "metadata": {},
   "outputs": [],
   "source": [
    "s = pd.Series([1, 2.3, \"Name\", 4, True],index = ['a','b','c','d','e'])\n",
    "print(s)\n",
    "print(\"----------------\")\n",
    "print(s[0])\n",
    "print(s[1])\n",
    "print(s[2])\n",
    "print(s[3])\n",
    "print(s[4])"
   ]
  },
  {
   "attachments": {},
   "cell_type": "markdown",
   "metadata": {},
   "source": [
    "Accessing Data from Series using index attribute (ie using index value/s)"
   ]
  },
  {
   "cell_type": "code",
   "execution_count": null,
   "metadata": {},
   "outputs": [],
   "source": [
    "s = pd.Series([1, 2.3, \"Name\", 4, True],index = ['a','b','c','d','e'])\n",
    "print(s['a'])\n",
    "print(s['b'])\n",
    "print(s['c'])\n",
    "print(s['d'])\n",
    "print(s['e'])"
   ]
  },
  {
   "attachments": {},
   "cell_type": "markdown",
   "metadata": {},
   "source": [
    "Accessing Data from Series using index attribute and \n",
    "default index( starts from zero)(Mix of attribute / value index and default index)\n"
   ]
  },
  {
   "cell_type": "code",
   "execution_count": null,
   "metadata": {},
   "outputs": [],
   "source": [
    "s = pd.Series([1, 2.3, \"Name\", 4, True],index = ['a','b','c','d','e'])\n",
    "print(s)\n",
    "print(\"----------------\")\n",
    "print(s['a'])\n",
    "print(s['b'])\n",
    "print(s[2])\n",
    "print(s[3])\n",
    "print(s[4])"
   ]
  },
  {
   "attachments": {},
   "cell_type": "markdown",
   "metadata": {},
   "source": [
    "Accessing Data from Series with Slicing"
   ]
  },
  {
   "cell_type": "code",
   "execution_count": null,
   "metadata": {},
   "outputs": [],
   "source": [
    "s = pd.Series([1, 2.3, \"Name\", 4, True],index = ['a','b','c','d','e'])\n",
    "print(s[:])\n",
    "print(\"--------------\")\n",
    "print(s[0:3])\n",
    "print(\"--------------\")\n",
    "print(s[0:6:2])# every other element (from 0th to 5th index (6-1)"
   ]
  },
  {
   "attachments": {},
   "cell_type": "markdown",
   "metadata": {},
   "source": [
    "Attribute slicing also possible\n",
    "In attribute slicing the last index also INCLUDED"
   ]
  },
  {
   "cell_type": "code",
   "execution_count": null,
   "metadata": {},
   "outputs": [],
   "source": [
    "s = pd.Series([1, 2.3, \"Name\", 4, True],index = ['a','b','c','d','e'])\n",
    "print(s[:])\n",
    "print(\"--------------\")\n",
    "print(s['a':'c'])"
   ]
  },
  {
   "attachments": {},
   "cell_type": "markdown",
   "metadata": {},
   "source": [
    "Indexing and Slicing is possible using index’s original \n",
    "value(without giving numbers)"
   ]
  },
  {
   "cell_type": "code",
   "execution_count": null,
   "metadata": {},
   "outputs": [],
   "source": [
    "s = pd.Series([1, 2.3, \"Name\", 4, True],index = ['a','b','c','d','e',])\n",
    "print(s)\n",
    "print(\"============\")\n",
    "print (s[1:4]) # :Position index, excludes last value\n",
    "print(\"============\")\n",
    "print (s['b':'e']) #Alphatical / string index, includes last value, index and slicing is possibe using this method too"
   ]
  },
  {
   "attachments": {},
   "cell_type": "markdown",
   "metadata": {},
   "source": [
    "Another Example"
   ]
  },
  {
   "cell_type": "code",
   "execution_count": null,
   "metadata": {},
   "outputs": [],
   "source": [
    "s = pd.Series([1, 2.3, \"Name\", 4, True],index = [\"10\",\"20\",\"30\",\"40\",\"50\"])\n",
    "print(s)\n",
    "print(\"============\")\n",
    "print (s[1:4]) # Numerical index, excludes last value\n",
    "print(\"============\")\n",
    "print (s[\"10\":\"40\"]) #Alphatical index, includes last value, index and slicing is possibe using this method too"
   ]
  },
  {
   "attachments": {},
   "cell_type": "markdown",
   "metadata": {},
   "source": [
    "Index has duplicate index that leads to KeyError"
   ]
  },
  {
   "cell_type": "code",
   "execution_count": null,
   "metadata": {},
   "outputs": [],
   "source": [
    "s = pd.Series([1, 2.3, \"Name\", 4, True],index = [\"50\",\"20\",\"10\",\"70\",\"10\"])\n",
    "print(s)\n",
    "print(\"============\")\n",
    "print (s[\"10\":\"70\"]) "
   ]
  },
  {
   "attachments": {},
   "cell_type": "markdown",
   "metadata": {},
   "source": [
    "Retrieve Data Using Label (Index)"
   ]
  },
  {
   "cell_type": "code",
   "execution_count": null,
   "metadata": {},
   "outputs": [],
   "source": [
    "s = pd.Series([ 1, 2, 3, 4, 5 ],index = ['a','b','cc','d','ee'])\n",
    "print(s['a'])\n",
    "print(s['ee'])\n",
    "print(s['cc':'ee'])"
   ]
  },
  {
   "attachments": {},
   "cell_type": "markdown",
   "metadata": {},
   "source": [
    "Retrieve multiple elements using a list of index label values."
   ]
  },
  {
   "cell_type": "code",
   "execution_count": null,
   "metadata": {},
   "outputs": [],
   "source": [
    "s = pd.Series([ 1, 2, 3, 4, 5 ],index = ['a','b','cc','d','ee'])\n",
    "print(s[['a', 'cc', 'd']])#observe the [[ ]] not []"
   ]
  },
  {
   "attachments": {},
   "cell_type": "markdown",
   "metadata": {},
   "source": [
    "If a label is not contained, an exception is raised"
   ]
  },
  {
   "cell_type": "code",
   "execution_count": null,
   "metadata": {},
   "outputs": [],
   "source": [
    "s = pd.Series([ 1, 2, 3, 4, 5 ],index = ['a','b','cc','d','ee'])\n",
    "print(s['f'])"
   ]
  },
  {
   "cell_type": "code",
   "execution_count": null,
   "metadata": {},
   "outputs": [],
   "source": [
    "s = pd.Series([ 1, 2, 3, 4, 5 ],index = ['a','b','cc','d','jAz'])\n",
    "print(s['b':\"ca\"])"
   ]
  },
  {
   "cell_type": "code",
   "execution_count": null,
   "metadata": {},
   "outputs": [],
   "source": [
    "s = pd.Series([ 1, 2, 3, 4, 5 ],index = ['a','b','cc','d', '\\t'])\n",
    "print(s['b':\"\\t\"])"
   ]
  },
  {
   "cell_type": "code",
   "execution_count": null,
   "metadata": {},
   "outputs": [],
   "source": [
    "s = pd.Series([ 1, 2, 3, 4, 5 ],index = ['a',' : ',' ','d', '\\t'])\n",
    "print(s['a':\" \"])"
   ]
  },
  {
   "cell_type": "code",
   "execution_count": null,
   "metadata": {},
   "outputs": [],
   "source": [
    "s = pd.Series([ 1, 2, 3, 4, 5 ],index = ['a','b',5,'d', True])\n",
    "print(s['b':True])"
   ]
  },
  {
   "cell_type": "code",
   "execution_count": null,
   "metadata": {},
   "outputs": [],
   "source": [
    "s = pd.Series([ 1, 2, 3, 4, 5 ],index = ['a','b','r','d', 5])\n",
    "print(s['b':5])"
   ]
  },
  {
   "attachments": {},
   "cell_type": "markdown",
   "metadata": {},
   "source": [
    "Properties of Series"
   ]
  },
  {
   "cell_type": "code",
   "execution_count": null,
   "metadata": {},
   "outputs": [],
   "source": [
    "lstOfBankBalance = [-67, 442, 68, 8, -100]\n",
    "idx = [200, 400, 600, 800, 1000]\n",
    "bankData = np.array(lstOfBankBalance)\n",
    "print (bankData)\n",
    "print(\"-------------------\")\n",
    "s = pd.Series(data=bankData,copy=True, index=idx,)\n",
    "print(\"After applying index :\\n\", s)\n",
    "print(\"-------------------\")\n",
    "#\n",
    "print(\" Adding new integer index\")\n",
    "s[9] = 2222.12 # The index 9 is interger// now the entire series's index become int64 (s.index)\n",
    "print(s)\n",
    "#\n",
    "print(\"-------------------\")\n",
    "print(\" Adding new string value to the index\") # appending new string element to Series / now the entire series's become object\n",
    "# s[3000] = \"5 percent\"\n",
    "print(s)\n",
    "print(\"-------------------\")\n",
    "#\n",
    "print(\"dtype :\", s.dtype)\n",
    "print(\"Length : \", len(s))\n",
    "print(\"s.size : \", s.size)\n",
    "print(\"NBYTES : \",s.nbytes)\n",
    "print(\"s.ndim: \", s.ndim)\n",
    "print(\"s.index: \", s.index)\n",
    "print(\"s.keys(): \", s.keys())\n",
    "print(\"s.items(): \", s.items()) #(See the code separately, it gives zip object)\n",
    "print(\"s.values : \", s.values) # values is a property not a method\n",
    "print(\"-------------------\")\n",
    "print(\"s.array() : \", s.array)\n",
    "print(\"-------------------\")\n",
    "print(\"s.abs : \\n\", s.abs()) # gives only absolute numerical value, removes all negatives. make sure the data does not have string\n",
    "print(\"-------------------\")\n",
    "print(\"axes : \", s.axes) \n",
    "'''if don’t give explicit index, it takes the index from 0 and (axes attribute) \n",
    "gives the output as [RangeIndex(start=0, stop=5, step=1)], if we give the index explicitly, the \n",
    "output will be differ based on the index'''\n",
    "print(\"================\")\n",
    "#\n",
    "print(s.any()) # s = pd.Series(data=[True,False])\n",
    "print(s.all()) # s = pd.Series(data=[True,False])\n",
    "print(s.name) # s = pd.Series(data=data1,copy=True, index=idx, name=\"StudentMarks\")\n",
    "da1 = 4\n",
    "s = pd.Series(data=da1)\n",
    "print(s.item())# it is possible only when the Series has only one value"
   ]
  },
  {
   "attachments": {},
   "cell_type": "markdown",
   "metadata": {},
   "source": [
    "Series. Items()\n",
    "Output is a zip object\n",
    "Can be aceesed via list(), for loop, using iter()\n"
   ]
  },
  {
   "cell_type": "code",
   "execution_count": null,
   "metadata": {},
   "outputs": [],
   "source": [
    "s = pd.Series([1, 2.3, \"Name\", 4, True],index = ['a','b','c','d','e',])\n",
    "a = s.items()\n",
    "print(a)\n",
    "b = iter(a)\n",
    "print(next(b))\n",
    "print(next(b))\n",
    "print(list(a))"
   ]
  },
  {
   "attachments": {},
   "cell_type": "markdown",
   "metadata": {},
   "source": [
    "Series.str"
   ]
  },
  {
   "cell_type": "code",
   "execution_count": null,
   "metadata": {},
   "outputs": [],
   "source": [
    "bankCustermerNames = [\"Imalta\", 'Loganathan', \"Jegan\", \"Rajagopal\"]\n",
    "s = pd.Series(data=bankCustermerNames)\n",
    "# upper = s.str.upper()\n",
    "# print(upper)\n",
    "# print(s.str.split(\"a\"))\n",
    "# print(s.str.endswith('n'))\n",
    "for item in s:\n",
    " if item.startswith('R'):\n",
    "    print(item)"
   ]
  },
  {
   "attachments": {},
   "cell_type": "markdown",
   "metadata": {},
   "source": [
    "Describe()"
   ]
  },
  {
   "cell_type": "code",
   "execution_count": null,
   "metadata": {},
   "outputs": [],
   "source": [
    "lst = [2, 4, 6, 8, 10]\n",
    "idx = [20,40,60,80,100]\n",
    "s = pd.Series(data=lst,dtype=float,copy=True, index=idx) # default index (starts from 0/zero)\n",
    "print(\"original series \\n\", s)\n",
    "print (\"=============\")\n",
    "print(s.describe())"
   ]
  },
  {
   "attachments": {},
   "cell_type": "markdown",
   "metadata": {},
   "source": [
    "Using + and * in Series"
   ]
  },
  {
   "cell_type": "code",
   "execution_count": null,
   "metadata": {},
   "outputs": [],
   "source": [
    "InternalMark = [2, 4, 6, 8, 10,5]\n",
    "ExternalMark = [24, 43, 66, 86, 107]\n",
    "idx = [20,40,60,80,100]\n",
    "s1 = pd.Series(data=InternalMark,dtype=float,copy=True, name=\"Internal Mark\") # default index (starts from 0/zero)\n",
    "print(\"original series \\n\", s1)\n",
    "print(\"=============\")\n",
    "s2 = pd.Series(data=ExternalMark,dtype=float,copy=True, name=\"External Mark\") # default index (starts from 0/zero)\n",
    "print(\"original series \\n\", s2)\n",
    "print(s1+s2)\n",
    "print(\"=============\")\n",
    "print(s1*s2)"
   ]
  },
  {
   "cell_type": "code",
   "execution_count": null,
   "metadata": {},
   "outputs": [],
   "source": [
    "InternalMark = [2, 4, 6, 8, 10, 5, \"A\"]\n",
    "ExternalMark = [24, 43, 66, 86, 107, 5, \"B\"]\n",
    "idx = [20,40,60,80,100]\n",
    "s1 = pd.Series(data=InternalMark,dtype=object,copy=True, name=\"Internal Mark\") # default index (starts from 0/zero)\n",
    "print(\"original series \\n\", s1)\n",
    "print(\"=============\")\n",
    "s2 = pd.Series(data=ExternalMark,dtype=object,copy=True, \n",
    "name=\"External Mark\") # default index (starts from 0/zero)\n",
    "print(\"original series \\n\", s2)\n",
    "print(s1+s2)\n",
    "print(\"=============\")"
   ]
  }
 ],
 "metadata": {
  "kernelspec": {
   "display_name": "base",
   "language": "python",
   "name": "python3"
  },
  "language_info": {
   "codemirror_mode": {
    "name": "ipython",
    "version": 3
   },
   "file_extension": ".py",
   "mimetype": "text/x-python",
   "name": "python",
   "nbconvert_exporter": "python",
   "pygments_lexer": "ipython3",
   "version": "3.9.13"
  },
  "orig_nbformat": 4,
  "vscode": {
   "interpreter": {
    "hash": "eff26853bd9e002f3f40d6837334b905fd558d3647c6b3ca5b549274c62ce1ec"
   }
  }
 },
 "nbformat": 4,
 "nbformat_minor": 2
}
