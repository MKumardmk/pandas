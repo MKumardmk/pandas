{
 "cells": [
  {
   "attachments": {},
   "cell_type": "markdown",
   "metadata": {},
   "source": [
    "A Data frame is a two-dimensional data structure, i.e., data is aligned in a \n",
    "tabular fashion in rows and columns."
   ]
  },
  {
   "attachments": {},
   "cell_type": "markdown",
   "metadata": {},
   "source": [
    "• Heterogeneous data\n",
    "• Size Mutable\n",
    "• Values of Data also Mutable\n",
    "• 2D Array\n",
    "• Tabular format\n",
    "• Labeled\n",
    "• Inside of Panel Container (it has been deprecated)\n",
    "• Heterogeneous columns\n",
    "• The most used datastructure than Panel and Series in ML / Data Analysis\n",
    "Features of DataFrame\n",
    "• Potentially columns are of different data types\n",
    "• Size – Mutable\n",
    "• Labeled axes (rows and columns) (Called index)\n",
    "• Can Perform Arithmetic operations on rows and columns\n",
    "The axis labels are collectively called index."
   ]
  },
  {
   "attachments": {},
   "cell_type": "markdown",
   "metadata": {},
   "source": [
    "5 parameters of DF constructors \n",
    "DataFrame(data=None, \n",
    "index: 'Optional[Axes]' = None, \n",
    "columns: 'Optional[Axes]' = None, \n",
    "dtype: 'Optional[Dtype]' = None, \n",
    "copy: 'bool' = False)\n"
   ]
  },
  {
   "cell_type": "code",
   "execution_count": null,
   "metadata": {},
   "outputs": [],
   "source": [
    "import pandas as pd\n",
    "import numpy as np"
   ]
  },
  {
   "attachments": {},
   "cell_type": "markdown",
   "metadata": {},
   "source": [
    "Create an Empty DataFrame"
   ]
  },
  {
   "cell_type": "code",
   "execution_count": null,
   "metadata": {},
   "outputs": [],
   "source": [
    "df = pd.DataFrame()\n",
    "print(df)"
   ]
  },
  {
   "attachments": {},
   "cell_type": "markdown",
   "metadata": {},
   "source": [
    "Different way of creating a DataFrame\n",
    "1.Create a DataFrame from list\n",
    "2.Create a DataFrame from list of lists\n",
    "3.Create a DataFrame from Dict\n",
    "4.Create a DataFrame from list of Dict\n",
    "5.Create a DataFrame from Dict of list\n",
    "6.Create a DataFrame from Dict of Series"
   ]
  },
  {
   "attachments": {},
   "cell_type": "markdown",
   "metadata": {},
   "source": [
    "Create a DataFrame from Lists"
   ]
  },
  {
   "cell_type": "code",
   "execution_count": null,
   "metadata": {},
   "outputs": [],
   "source": [
    "import pandas as pd\n",
    "data = [1, 2, 3, 4, 5]\n",
    "df = pd.DataFrame(data=data)\n",
    "print(df)"
   ]
  },
  {
   "cell_type": "code",
   "execution_count": null,
   "metadata": {},
   "outputs": [],
   "source": [
    "data = [10, 20, 30, 40, 50]\n",
    "df = pd.DataFrame(data=data,index=['A', 'B', 'C', 'D', 'E'])\n",
    "print(df)"
   ]
  },
  {
   "cell_type": "code",
   "execution_count": null,
   "metadata": {},
   "outputs": [],
   "source": [
    "studentNumber = [45,60,60,90,34]\n",
    "df = pd.DataFrame(data=studentNumber, index=[\"John\", \"Mary\", \"Kumar\", \"Arul\", \n",
    "\"Veera\"], columns=['Marks'])\n",
    "print(df)"
   ]
  },
  {
   "attachments": {},
   "cell_type": "markdown",
   "metadata": {},
   "source": [
    "Index values are used to construct Rows heading"
   ]
  },
  {
   "cell_type": "code",
   "execution_count": null,
   "metadata": {},
   "outputs": [],
   "source": [
    "data = [10, 20, 30, 40, 50]\n",
    "df = pd.DataFrame(data=data,index=['A', 'B', 'C', 'D', 'E'],columns=[\"Marks\"])\n",
    "print(df)"
   ]
  },
  {
   "attachments": {},
   "cell_type": "markdown",
   "metadata": {},
   "source": [
    "If we give mis match of rows and columns it is an error, (ie the size of \n",
    "index and column must be same)"
   ]
  },
  {
   "cell_type": "code",
   "execution_count": null,
   "metadata": {},
   "outputs": [],
   "source": [
    "df = pd.DataFrame(data=data,index=['A', 'B', 'C', 'D', \n",
    "'E'],columns=[\"Marks\", \"Grade\"])"
   ]
  },
  {
   "cell_type": "code",
   "execution_count": null,
   "metadata": {},
   "outputs": [],
   "source": [
    "data = [10, 20, 30, 40, 50]\n",
    "df = pd.DataFrame(data=data,index=['A', 'B', 'C', 'D', \n",
    "'E'],columns=[\"Marks\"])\n",
    "print(df)\n",
    "print(\"SHAPE :\",df.shape)\n",
    "print(\"SIZE : \", df.size)\n",
    "print(\"DIMENSION :\",df.ndim)\n",
    "print(\"LENGTH\", len(df))\n"
   ]
  },
  {
   "attachments": {},
   "cell_type": "markdown",
   "metadata": {},
   "source": [
    "Creating DataFrame from lists of list"
   ]
  },
  {
   "cell_type": "code",
   "execution_count": null,
   "metadata": {},
   "outputs": [],
   "source": [
    "data = [[\"Alex\", 10], [\"Bob\", 12], [\"Clarke\", 13]]\n",
    "df = pd.DataFrame(data=data, columns=[\"Name\", \"Age\"])\n",
    "print(df)"
   ]
  },
  {
   "attachments": {},
   "cell_type": "markdown",
   "metadata": {},
   "source": [
    "Here we use custom index (starts from 0) and columns"
   ]
  },
  {
   "cell_type": "code",
   "execution_count": null,
   "metadata": {},
   "outputs": [],
   "source": [
    "data = [[\"Alex\", 10], [\"Bob\", 12], [\"Clarke\", 13]]\n",
    "df = pd.DataFrame(data=data, index=[1,2,3] ,columns=[\"Name\", \"Age\"])\n",
    "print(df)"
   ]
  },
  {
   "attachments": {},
   "cell_type": "markdown",
   "metadata": {},
   "source": [
    "how to give index using range(),custom start number. Ex we want to start the \n",
    "index from 10 (not from the default 0)\n"
   ]
  },
  {
   "cell_type": "code",
   "execution_count": null,
   "metadata": {},
   "outputs": [],
   "source": [
    "data = [[\"Alex\", 10], [\"Bob\", 12], [\"Clarke\", 13]]\n",
    "df = pd.DataFrame(data=data, columns=[\"Name\", \"Age\"], index=list(range(10,13)))\n",
    "print(df)\n",
    "print(df.shape)\n",
    "print(df.ndim)"
   ]
  },
  {
   "attachments": {},
   "cell_type": "markdown",
   "metadata": {},
   "source": [
    "Here we use index , columns and float (index is default, starts from range(n))"
   ]
  },
  {
   "cell_type": "code",
   "execution_count": null,
   "metadata": {},
   "outputs": [],
   "source": [
    "data = [[\"Alex\", 10], [\"Bob\", 12], [\"Clarke\", 13]]\n",
    "df = pd.DataFrame(data=data ,columns=[\"Name\", \"Age\"], dtype=np.float64)\n",
    "print(df)"
   ]
  },
  {
   "attachments": {},
   "cell_type": "markdown",
   "metadata": {},
   "source": [
    "Create a DataFrame from Dict of Lists"
   ]
  },
  {
   "cell_type": "code",
   "execution_count": null,
   "metadata": {},
   "outputs": [],
   "source": [
    "data = {\"Name\":['Tom', 'Jack', 'Steve', 'Ricky'], \"Age\":[28,34,29,42]}\n",
    "df = pd.DataFrame(data=data)\n",
    "print(df)\n"
   ]
  },
  {
   "cell_type": "code",
   "execution_count": null,
   "metadata": {},
   "outputs": [],
   "source": [
    "data = {\"Name\":['Tom', 'Jack', 'Steve', 'Ricky'], \"Age\":[28,34,29,42], \n",
    "\"Marks\":[98, 95, 69, 28] }\n",
    "df = pd.DataFrame(data=data, index=[\"Row 1\", \"Row 2\", \"Row 3\", \"Row 4\"])\n",
    "print(df)"
   ]
  },
  {
   "attachments": {},
   "cell_type": "markdown",
   "metadata": {},
   "source": [
    "Create a DataFrame from List of Dicts (List has more than one dict)"
   ]
  },
  {
   "cell_type": "code",
   "execution_count": null,
   "metadata": {},
   "outputs": [],
   "source": [
    "data = [{'Name': 1, 'Age': 2, \"Mark\":50}, {'Name': 5, 'Age': 10, 'Mark': 20}]\n",
    "df = pd.DataFrame(data)\n",
    "print(df)\n"
   ]
  },
  {
   "attachments": {},
   "cell_type": "markdown",
   "metadata": {},
   "source": [
    "Another example (This is like join operation from 2 tables) / merging 2 \n",
    "csv / excel files"
   ]
  },
  {
   "cell_type": "code",
   "execution_count": null,
   "metadata": {},
   "outputs": [],
   "source": [
    "data = [{'Name': 1, 'Age': 2, }, {'Name': 5, 'Age': 10, 'Mark': 20}, {'Name': 5, 'Age': 10, 'Mark': 20, \n",
    "\"Grade\":\"First\"}]\n",
    "df = pd.DataFrame(data)\n",
    "print(df)\n"
   ]
  },
  {
   "attachments": {},
   "cell_type": "markdown",
   "metadata": {},
   "source": [
    "What happens if we give explicit columns "
   ]
  },
  {
   "cell_type": "code",
   "execution_count": null,
   "metadata": {},
   "outputs": [],
   "source": [
    "data = [{'Name': 1, 'Age': 2, }, {'Name': 5, 'Age': 10, 'Mark': 20}, {'Name': 5, 'Age': 10, 'Mark': 20, \n",
    "\"Grade\":\"First\"}]\n",
    "df = pd.DataFrame(data, columns=[\"Name\", \"B\", \"C\", \"Mark\"])\n",
    "print(df)"
   ]
  },
  {
   "attachments": {},
   "cell_type": "markdown",
   "metadata": {},
   "source": [
    "The following example shows how to create a DataFrame by passing a \n",
    "list of dictionaries and the row indices."
   ]
  },
  {
   "cell_type": "code",
   "execution_count": null,
   "metadata": {},
   "outputs": [],
   "source": [
    "data = [{'Name': 1, 'Age': 2, }, {'Name': 5, 'Age': 10, 'Mark': 20}, {'Name': \n",
    "5, 'Age': 10, 'Mark': 20, \"Grade\":\"First\"}]\n",
    "df = pd.DataFrame(data=data, index=[\"Row1\", \"Row2\",\"Row3\"])\n",
    "print(df)"
   ]
  },
  {
   "attachments": {},
   "cell_type": "markdown",
   "metadata": {},
   "source": [
    "list of dictionaries"
   ]
  },
  {
   "cell_type": "code",
   "execution_count": null,
   "metadata": {},
   "outputs": [],
   "source": [
    "data = [{'Name': 1, 'Age': 2, }, {'Name': 5, 'Age': 10, 'Mark': 20}, ]\n",
    "df = pd.DataFrame(data=data, columns=[\"Name\", \"Age\",], index=[\"Row1\", \"Row2\"])\n",
    "print(df)"
   ]
  },
  {
   "cell_type": "code",
   "execution_count": null,
   "metadata": {},
   "outputs": [],
   "source": [
    "data = [{'Name': 1, 'Age': 2, }, {'Name': 5, 'Age': 10, 'Mark': 20}, ]\n",
    "df = pd.DataFrame(data=data, columns=[\"Name\", \"Age\", \"Grade\"], index=[\"Row1\", \"Row2\"])\n",
    "print(df)"
   ]
  },
  {
   "attachments": {},
   "cell_type": "markdown",
   "metadata": {},
   "source": [
    "Customized column by names (we can change the order of the column)"
   ]
  },
  {
   "cell_type": "code",
   "execution_count": null,
   "metadata": {},
   "outputs": [],
   "source": [
    "data = [{'Name': 1, 'Age': 2, }, {'Name': 5, 'Age': 10, 'Mark': 20}, ]\n",
    "df = pd.DataFrame(data=data, columns=[\"Age\", \"Grade\", \"Name\"], index=[\"Row1\", \"Row2\"])\n",
    "print(df)"
   ]
  },
  {
   "attachments": {},
   "cell_type": "markdown",
   "metadata": {},
   "source": [
    "Create a DataFrame from Dict of Series"
   ]
  },
  {
   "cell_type": "code",
   "execution_count": null,
   "metadata": {},
   "outputs": [],
   "source": [
    "d = {'Name': pd.Series([\"Kamal\", \"Vanitha\", \"Usha\"], index=[\"Row1\", \"Row2\",\"Row3\"]), 'Age': \n",
    "pd.Series([10,20,30, 40], index=[\"Row1\", \"Row2\",\"Row3\", \"Row4\"])}\n",
    "df = pd.DataFrame(data=d)\n",
    "print(df)"
   ]
  },
  {
   "attachments": {},
   "cell_type": "markdown",
   "metadata": {},
   "source": [
    "Custom column can be selected from dict of Series"
   ]
  },
  {
   "cell_type": "code",
   "execution_count": null,
   "metadata": {},
   "outputs": [],
   "source": [
    "d = {'Name': pd.Series([\"Kamal\", \"Vanitha\", \"Usha\"], index=[\"Row1\", \"Row2\",\"Row3\"]), 'Age': \n",
    "pd.Series([10,20,30, 40], index=[\"Row1\", \"Row2\",\"Row3\", \"Row4\"])}\n",
    "df = pd.DataFrame(data=d)\n",
    "print(df[\"Name\"]) # This takes Name column\n",
    "print(\"=============\")\n",
    "print(df[\"Age\"])# This takes Age column"
   ]
  },
  {
   "attachments": {},
   "cell_type": "markdown",
   "metadata": {},
   "source": [
    "Understand column selection, addition, and deletion through \n",
    "examples"
   ]
  },
  {
   "cell_type": "code",
   "execution_count": null,
   "metadata": {},
   "outputs": [],
   "source": [
    "d = {'Name': pd.Series([\"Kamal\", \"Vanitha\", \"Usha\"], index=[\"Row1\", \"Row2\",\"Row3\"]), 'Age': \n",
    "pd.Series([10,20,30, 40], index=[\"Row1\", \"Row2\",\"Row3\", \"Row4\"])}\n",
    "df = pd.DataFrame(data=d)\n",
    "print(df)\n",
    "print(\"=============\")\n",
    "df[\"Marks\"] = pd.Series([56.5, 78.6, 67.9, 99.2], index=[\"Row1\", \"Row2\",\"Row3\", \"Row4\"])\n",
    "print(df)"
   ]
  },
  {
   "attachments": {},
   "cell_type": "markdown",
   "metadata": {},
   "source": [
    "Based on the index we provide, the values will be extracted"
   ]
  },
  {
   "cell_type": "code",
   "execution_count": null,
   "metadata": {},
   "outputs": [],
   "source": [
    "d = {'Name': pd.Series([\"Kamal\", \"Vanitha\", \"Usha\"], index=[\"Row1\", \"Row2\",\"Row3\"]), 'Age': \n",
    "pd.Series([10,20,30, 40], index=[\"Row1\", \"Row2\",\"Row3\", \"Row4\"])}\n",
    "df = pd.DataFrame(data=d)\n",
    "print(df)\n",
    "print(\"=============\")\n",
    "df[\"Marks\"] = pd.Series([56.5, 78.6, 67.9], index=[\"Row2\",\"Row3\", \"Row4\"])\n",
    "print(df)"
   ]
  },
  {
   "attachments": {},
   "cell_type": "markdown",
   "metadata": {},
   "source": [
    "Index values are sorted first, then corresponding values are \n",
    "extracted"
   ]
  },
  {
   "cell_type": "code",
   "execution_count": null,
   "metadata": {},
   "outputs": [],
   "source": [
    "d = {'Name': pd.Series([\"Kamal\", \"Vanitha\", \"Usha\"], index=[\"Row1\", \"Row2\",\"Row3\"]),\n",
    " 'Age': pd.Series([10,20,30, 40], index=[\"Row2\", \"Row1\",\"Row3\", \"Row4\"])}\n",
    "df = pd.DataFrame(data=d)\n",
    "print(df)\n",
    "print(\"=============\")\n",
    "print(df[\"Age\"])"
   ]
  },
  {
   "attachments": {},
   "cell_type": "markdown",
   "metadata": {},
   "source": [
    "Adding a new column using the existing columns in DataFrame"
   ]
  },
  {
   "cell_type": "code",
   "execution_count": null,
   "metadata": {},
   "outputs": [],
   "source": [
    "d = {'one': pd.Series([1, 2, 3], index=['a', 'b', 'c']),\n",
    " 'two': pd.Series([1, 2, 3, 4], index=['a', 'b', 'c', 'd'])}\n",
    "df = pd.DataFrame(data=d)\n",
    "print (\"-------------\")\n",
    "print(\"Adding a new column by passing as Series\")\n",
    "df['Three'] = pd.Series([10, 20, 30], index=[\"a\", \"b\", \"c\"])\n",
    "print(df)\n",
    "print (\"-------------\")\n",
    "print (\"Adding a new column by passing as Series:\")\n",
    "df ['Total'] = df['one'] + df['Three']\n",
    "print(df)"
   ]
  },
  {
   "attachments": {},
   "cell_type": "markdown",
   "metadata": {},
   "source": [
    " arithmetic operations also possible"
   ]
  },
  {
   "cell_type": "code",
   "execution_count": null,
   "metadata": {},
   "outputs": [],
   "source": [
    "d = {'one': pd.Series([1, 2, 3], index=['a', 'b', 'c']),\n",
    " 'two': pd.Series([1, 2, 3, 4], index=['a', 'b', 'c', 'd'])}\n",
    "df = pd.DataFrame(data=d)\n",
    "print (\"-------------\")\n",
    "print(\"Adding a new column by passing as Series\")\n",
    "df['Three'] = pd.Series([10, 20, 30], index=[\"a\", \"b\", \"c\"])\n",
    "print(df)\n",
    "print (\"-------------\")\n",
    "print (\"Adding a new column by passing as Series:\")\n",
    "df ['Total'] = df['one'] + df['Three'] + df [\"two\"]\n",
    "print(df)"
   ]
  },
  {
   "attachments": {},
   "cell_type": "markdown",
   "metadata": {},
   "source": [
    "Column Deletion"
   ]
  },
  {
   "cell_type": "code",
   "execution_count": null,
   "metadata": {},
   "outputs": [],
   "source": [
    "d = {'one': pd.Series([1, 2, 3], index=['a', 'b', 'c']),\n",
    " 'two': pd.Series([1, 2, 3, 4], index=['a', 'b', 'c', 'd'])}\n",
    "df = pd.DataFrame(data=d)\n",
    "print(df)\n",
    "print(\"Adding a new column by passing as Series\")\n",
    "df['Three'] = pd.Series([10, 20, 30], index=[\"a\", \"b\", \"c\"])\n",
    "print(df)\n",
    "print(\"====================\")\n",
    "# using del function\n",
    "print (\"Deleting the first column using DEL function:\")\n",
    "del df['one']\n",
    "print(df)\n",
    "# using pop function\n",
    "print(\"====================\")\n",
    "print (\"Deleting another column using POP function:\")\n",
    "df.pop('two')\n",
    "print(df)\n",
    "# del, pop, drop and truncate "
   ]
  }
 ],
 "metadata": {
  "kernelspec": {
   "display_name": "base",
   "language": "python",
   "name": "python3"
  },
  "language_info": {
   "codemirror_mode": {
    "name": "ipython",
    "version": 3
   },
   "file_extension": ".py",
   "mimetype": "text/x-python",
   "name": "python",
   "nbconvert_exporter": "python",
   "pygments_lexer": "ipython3",
   "version": "3.9.13"
  },
  "orig_nbformat": 4,
  "vscode": {
   "interpreter": {
    "hash": "eff26853bd9e002f3f40d6837334b905fd558d3647c6b3ca5b549274c62ce1ec"
   }
  }
 },
 "nbformat": 4,
 "nbformat_minor": 2
}
